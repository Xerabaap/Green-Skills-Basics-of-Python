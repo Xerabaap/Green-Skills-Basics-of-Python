{
 "cells": [
  {
   "cell_type": "code",
   "execution_count": 1,
   "metadata": {},
   "outputs": [
    {
     "name": "stdout",
     "output_type": "stream",
     "text": [
      "Collecting pygame\n",
      "  Downloading pygame-2.6.1-cp311-cp311-win_amd64.whl (10.6 MB)\n",
      "     ---------------------------------------- 10.6/10.6 MB 7.5 MB/s eta 0:00:00\n",
      "Installing collected packages: pygame\n",
      "Successfully installed pygame-2.6.1\n",
      "Note: you may need to restart the kernel to use updated packages.\n"
     ]
    },
    {
     "name": "stderr",
     "output_type": "stream",
     "text": [
      "\n",
      "[notice] A new release of pip available: 22.3.1 -> 24.3.1\n",
      "[notice] To update, run: python.exe -m pip install --upgrade pip\n"
     ]
    }
   ],
   "source": [
    "pip install pygame"
   ]
  },
  {
   "cell_type": "code",
   "execution_count": 1,
   "metadata": {},
   "outputs": [
    {
     "name": "stdout",
     "output_type": "stream",
     "text": [
      "pygame 2.6.1 (SDL 2.28.4, Python 3.11.2)\n",
      "Hello from the pygame community. https://www.pygame.org/contribute.html\n"
     ]
    },
    {
     "ename": "SystemExit",
     "evalue": "",
     "output_type": "error",
     "traceback": [
      "An exception has occurred, use %tb to see the full traceback.\n",
      "\u001b[1;31mSystemExit\u001b[0m\n"
     ]
    },
    {
     "name": "stderr",
     "output_type": "stream",
     "text": [
      "C:\\Users\\Arya\\AppData\\Roaming\\Python\\Python311\\site-packages\\IPython\\core\\interactiveshell.py:3585: UserWarning: To exit: use 'exit', 'quit', or Ctrl-D.\n",
      "  warn(\"To exit: use 'exit', 'quit', or Ctrl-D.\", stacklevel=1)\n"
     ]
    }
   ],
   "source": [
    "import pygame\n",
    "import sys\n",
    "\n",
    "# Initialize Pygame\n",
    "pygame.init()\n",
    "\n",
    "# Screen dimensions\n",
    "WIDTH, HEIGHT = 800, 600\n",
    "screen = pygame.display.set_mode((WIDTH, HEIGHT))\n",
    "pygame.display.set_caption(\"Ball Bounce in a Garden\")\n",
    "\n",
    "# Colors\n",
    "WHITE = (255, 255, 255)\n",
    "BLUE = (0, 0, 255)\n",
    "GREEN = (34, 139, 34)\n",
    "YELLOW = (255, 223, 0)\n",
    "BROWN = (139, 69, 19)\n",
    "GRAY = (192, 192, 192)\n",
    "\n",
    "# Ball properties\n",
    "ball_radius = 20\n",
    "ball_x = WIDTH // 2\n",
    "ball_y = HEIGHT // 2\n",
    "velocity_x = 0\n",
    "velocity_y = 0\n",
    "gravity = 0.5  # Simulate gravity\n",
    "elasticity = 0.8  # Bouncing effect\n",
    "move_speed = 5  # Horizontal/vertical movement speed with keys\n",
    "\n",
    "# Frame rate\n",
    "clock = pygame.time.Clock()\n",
    "FPS = 60\n",
    "\n",
    "running = True\n",
    "while running:\n",
    "    for event in pygame.event.get():\n",
    "        if event.type == pygame.QUIT:\n",
    "            running = False\n",
    "\n",
    "    # Get key states\n",
    "    keys = pygame.key.get_pressed()\n",
    "\n",
    "    # Horizontal movement\n",
    "    if keys[pygame.K_LEFT]:\n",
    "        velocity_x = -move_speed\n",
    "    elif keys[pygame.K_RIGHT]:\n",
    "        velocity_x = move_speed\n",
    "    else:\n",
    "        velocity_x = 0\n",
    "\n",
    "    # Vertical movement\n",
    "    if keys[pygame.K_UP]:\n",
    "        velocity_y -= move_speed  # Move up faster\n",
    "    elif keys[pygame.K_DOWN]:\n",
    "        velocity_y += move_speed  # Move down faster\n",
    "\n",
    "    # Apply gravity\n",
    "    velocity_y += gravity\n",
    "    ball_y += velocity_y\n",
    "    ball_x += velocity_x\n",
    "\n",
    "    # Bounce off the ground\n",
    "    if ball_y + ball_radius > HEIGHT:\n",
    "        ball_y = HEIGHT - ball_radius\n",
    "        velocity_y = -velocity_y * elasticity  # Reverse direction and lose energy\n",
    "\n",
    "    # Bounce off the top\n",
    "    if ball_y - ball_radius < 0:\n",
    "        ball_y = ball_radius\n",
    "        velocity_y = -velocity_y * elasticity  # Reverse direction and lose energy\n",
    "\n",
    "    # Prevent the ball from going off-screen horizontally\n",
    "    if ball_x - ball_radius < 0:\n",
    "        ball_x = ball_radius\n",
    "    elif ball_x + ball_radius > WIDTH:\n",
    "        ball_x = WIDTH - ball_radius\n",
    "\n",
    "    # Clear the screen with garden background\n",
    "    screen.fill(GREEN)  # Green grass\n",
    "\n",
    "    # Draw the sun\n",
    "    pygame.draw.circle(screen, YELLOW, (WIDTH - 100, 100), 50)\n",
    "\n",
    "    # Draw a bench\n",
    "    pygame.draw.rect(screen, BROWN, (WIDTH // 4, HEIGHT - 80, 200, 20))  # Seat\n",
    "    pygame.draw.rect(screen, GRAY, (WIDTH // 4 + 10, HEIGHT - 60, 20, 40))  # Left leg\n",
    "    pygame.draw.rect(screen, GRAY, (WIDTH // 4 + 170, HEIGHT - 60, 20, 40))  # Right leg\n",
    "\n",
    "    # Draw the ball\n",
    "    pygame.draw.circle(screen, BLUE, (int(ball_x), int(ball_y)), ball_radius)\n",
    "\n",
    "    # Update the display\n",
    "    pygame.display.flip()\n",
    "\n",
    "    # Cap the frame rate\n",
    "    clock.tick(FPS)\n",
    "\n",
    "pygame.quit()\n",
    "sys.exit()"
   ]
  }
 ],
 "metadata": {
  "kernelspec": {
   "display_name": "Python 3",
   "language": "python",
   "name": "python3"
  },
  "language_info": {
   "codemirror_mode": {
    "name": "ipython",
    "version": 3
   },
   "file_extension": ".py",
   "mimetype": "text/x-python",
   "name": "python",
   "nbconvert_exporter": "python",
   "pygments_lexer": "ipython3",
   "version": "3.11.2"
  }
 },
 "nbformat": 4,
 "nbformat_minor": 2
}
